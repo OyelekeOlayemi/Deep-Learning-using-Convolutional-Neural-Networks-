{
  "nbformat": 4,
  "nbformat_minor": 0,
  "metadata": {
    "colab": {
      "name": "Copy of Untitled0.ipynb",
      "version": "0.3.2",
      "provenance": [],
      "include_colab_link": true
    },
    "kernelspec": {
      "name": "python3",
      "display_name": "Python 3"
    }
  },
  "cells": [
    {
      "cell_type": "markdown",
      "metadata": {
        "id": "view-in-github",
        "colab_type": "text"
      },
      "source": [
        "<a href=\"https://colab.research.google.com/github/OyelekeOlayemi/Deep-Learning-using-Convolutional-Neural-Networks-/blob/master/Copy_of_Untitled0.ipynb\" target=\"_parent\"><img src=\"https://colab.research.google.com/assets/colab-badge.svg\" alt=\"Open In Colab\"/></a>"
      ]
    },
    {
      "cell_type": "markdown",
      "metadata": {
        "id": "z2TxugT8uVcT",
        "colab_type": "text"
      },
      "source": [
        "#**My New Project**"
      ]
    },
    {
      "cell_type": "code",
      "metadata": {
        "id": "wsx6Sm4OtYRR",
        "colab_type": "code",
        "colab": {}
      },
      "source": [
        "import numpy as bv"
      ],
      "execution_count": 0,
      "outputs": []
    },
    {
      "cell_type": "code",
      "metadata": {
        "id": "rBMpOPOnt_tn",
        "colab_type": "code",
        "colab": {}
      },
      "source": [
        ""
      ],
      "execution_count": 0,
      "outputs": []
    },
    {
      "cell_type": "markdown",
      "metadata": {
        "id": "T7ToH98cuCS1",
        "colab_type": "text"
      },
      "source": [
        "***Import my Library***\n",
        "[Check Bio](datalab.com.ng)"
      ]
    }
  ]
}