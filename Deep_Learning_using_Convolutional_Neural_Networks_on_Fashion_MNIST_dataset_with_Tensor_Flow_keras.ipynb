{
  "nbformat": 4,
  "nbformat_minor": 0,
  "metadata": {
    "colab": {
      "name": "Deep Learning using Convolutional Neural Networks on Fashion MNIST dataset with Tensor Flow keras",
      "version": "0.3.2",
      "provenance": [],
      "include_colab_link": true
    },
    "kernelspec": {
      "name": "python3",
      "display_name": "Python 3"
    },
    "accelerator": "TPU"
  },
  "cells": [
    {
      "cell_type": "markdown",
      "metadata": {
        "id": "view-in-github",
        "colab_type": "text"
      },
      "source": [
        "<a href=\"https://colab.research.google.com/github/OyelekeOlayemi/Deep-Learning-using-Convolutional-Neural-Networks-/blob/master/Deep_Learning_using_Convolutional_Neural_Networks_on_Fashion_MNIST_dataset_with_Tensor_Flow_keras.ipynb\" target=\"_parent\"><img src=\"https://colab.research.google.com/assets/colab-badge.svg\" alt=\"Open In Colab\"/></a>"
      ]
    },
    {
      "cell_type": "markdown",
      "metadata": {
        "id": "lnZzzRSqjNGL",
        "colab_type": "text"
      },
      "source": [
        "# Deep Learning using Convolutional Neural Networks on Fashion MNIST dataset with Tensor Flow keras"
      ]
    },
    {
      "cell_type": "markdown",
      "metadata": {
        "id": "fvThuT4tjrbS",
        "colab_type": "text"
      },
      "source": [
        "**This project train a neural network using tensorflow keras.**\n",
        "\n",
        "The Fashion MNIST dataset contains 70,000 grayscale images in 10 classes of fashion images such as shorts, dresses, shoes, purses, etc. We would train a Convolutional Neural Networks on the MNIST fashion data. We will use 60,000 images to train the network and 10,000 images to evaluate how accurately the network learned to classify images.\n",
        "\n",
        "Learn more about us: [Datalab Nigeria](https://datalab.com.ng/)"
      ]
    },
    {
      "cell_type": "markdown",
      "metadata": {
        "id": "wGMYsPolIBVe",
        "colab_type": "text"
      },
      "source": [
        "**We would begin by downloading the fashion MNIST dataset using tf.keras.datasets and importing the needed libraries.**"
      ]
    },
    {
      "cell_type": "code",
      "metadata": {
        "id": "pXq27V6NiNnF",
        "colab_type": "code",
        "colab": {
          "base_uri": "https://localhost:8080/",
          "height": 153
        },
        "outputId": "ee6eefa1-c726-4ca7-b9a0-d58adc063e90"
      },
      "source": [
        "import tensorflow as tf\n",
        "import numpy as np\n",
        "\n",
        "import distutils\n",
        "if distutils.version.LooseVersion(tf.__version__) < '1.14':\n",
        "    raise Exception('This notebook is compatible with TensorFlow 1.14 or higher, for TensorFlow 1.13 or lower please use the previous version at https://github.com/tensorflow/tpu/blob/r1.13/tools/colab/fashion_mnist.ipynb')\n",
        "\n",
        "(x_train, y_train), (x_test, y_test) = tf.keras.datasets.fashion_mnist.load_data()\n",
        "\n",
        "# add empty color dimension\n",
        "x_train = np.expand_dims(x_train, -1)\n",
        "x_test = np.expand_dims(x_test, -1)"
      ],
      "execution_count": 3,
      "outputs": [
        {
          "output_type": "stream",
          "text": [
            "Downloading data from https://storage.googleapis.com/tensorflow/tf-keras-datasets/train-labels-idx1-ubyte.gz\n",
            "32768/29515 [=================================] - 0s 0us/step\n",
            "Downloading data from https://storage.googleapis.com/tensorflow/tf-keras-datasets/train-images-idx3-ubyte.gz\n",
            "26427392/26421880 [==============================] - 2s 0us/step\n",
            "Downloading data from https://storage.googleapis.com/tensorflow/tf-keras-datasets/t10k-labels-idx1-ubyte.gz\n",
            "8192/5148 [===============================================] - 0s 0us/step\n",
            "Downloading data from https://storage.googleapis.com/tensorflow/tf-keras-datasets/t10k-images-idx3-ubyte.gz\n",
            "4423680/4422102 [==============================] - 0s 0us/step\n"
          ],
          "name": "stdout"
        }
      ]
    },
    {
      "cell_type": "markdown",
      "metadata": {
        "id": "G2_8qExlMzJ8",
        "colab_type": "text"
      },
      "source": [
        "**Building the CNN MNIST Classifier**"
      ]
    },
    {
      "cell_type": "code",
      "metadata": {
        "id": "OVhlFTkkIwns",
        "colab_type": "code",
        "colab": {}
      },
      "source": [
        "def create_model():\n",
        "  model = tf.keras.models.Sequential()\n",
        "  model.add(tf.keras.layers.BatchNormalization(input_shape=x_train.shape[1:]))\n",
        "  model.add(tf.keras.layers.Conv2D(64, (5, 5), padding='same', activation='elu'))\n",
        "  model.add(tf.keras.layers.MaxPooling2D(pool_size=(2, 2), strides=(2,2)))\n",
        "  model.add(tf.keras.layers.Dropout(0.25))\n",
        "\n",
        "  model.add(tf.keras.layers.BatchNormalization(input_shape=x_train.shape[1:]))\n",
        "  model.add(tf.keras.layers.Conv2D(128, (5, 5), padding='same', activation='elu'))\n",
        "  model.add(tf.keras.layers.MaxPooling2D(pool_size=(2, 2)))\n",
        "  model.add(tf.keras.layers.Dropout(0.25))\n",
        "\n",
        "  model.add(tf.keras.layers.BatchNormalization(input_shape=x_train.shape[1:]))\n",
        "  model.add(tf.keras.layers.Conv2D(256, (5, 5), padding='same', activation='elu'))\n",
        "  model.add(tf.keras.layers.MaxPooling2D(pool_size=(2, 2), strides=(2,2)))\n",
        "  model.add(tf.keras.layers.Dropout(0.25))\n",
        "\n",
        "  model.add(tf.keras.layers.Flatten())\n",
        "  model.add(tf.keras.layers.Dense(256))\n",
        "  model.add(tf.keras.layers.Activation('elu'))\n",
        "  model.add(tf.keras.layers.Dropout(0.5))\n",
        "  model.add(tf.keras.layers.Dense(10))\n",
        "  model.add(tf.keras.layers.Activation('softmax'))\n",
        "  return model"
      ],
      "execution_count": 0,
      "outputs": []
    },
    {
      "cell_type": "markdown",
      "metadata": {
        "id": "mB31CVEDNNL7",
        "colab_type": "text"
      },
      "source": [
        "- In our FIRST convolutional layer, we want to apply 64 5x5 filters to the input layer, with a ReLU activation function.\n",
        "\n",
        "\n",
        "- In our SECOND convolutional layer, we want to apply 128 5x5 filters to the input layer, with a ReLU activation function.\n",
        "\n",
        "\n",
        "- In our THIRD convolutional layer, we want to apply 256 5x5 filters to the input layer, with a ReLU activation function.\n",
        "\n",
        "\n",
        "- We also specified max pooling with a 2x2 filter and stride of 2.\n",
        "\n",
        "\n",
        "- we want to add a dense layer (with 256 neurons and ReLU activation) to our CNN to perform classification on the features extracted by the convolution/pooling layers. Before we connect the layer, however, we'll flatten our feature into a vector that can be fed into a fully connected neural network classifier.\n",
        "\n",
        "- For the activation function, we use tf elu to add ReLU activation.\n",
        "\n",
        "- To help improve the results of our model, we also apply dropout regularization to our dense layer, using the dropout method in layers. The rate argument specifies the dropout rate; here, we use 0.5, which means 50% of the elements will be randomly dropped out during training or probability of 0.5 that any given element will be dropped during training.\n",
        "\n",
        "\n",
        "- Also Dense Layer with 10 neurons, one for each digit target class (0–9).\n",
        "\n"
      ]
    },
    {
      "cell_type": "markdown",
      "metadata": {
        "id": "3wPXQdOtVWeL",
        "colab_type": "text"
      },
      "source": [
        "**Train on the Tensor Processing Units (TPUs) developed by Google specifically for neural network machine learning**. \n",
        "Learn more: [Google TPU](https://cloud.google.com/ml-engine/docs/tensorflow/using-tpus) "
      ]
    },
    {
      "cell_type": "code",
      "metadata": {
        "id": "Cci5SngeVvav",
        "colab_type": "code",
        "colab": {
          "base_uri": "https://localhost:8080/",
          "height": 1000
        },
        "outputId": "a2207338-34bb-4e57-9a50-68335aa117db"
      },
      "source": [
        "import os\n",
        "\n",
        "# This address identifies the TPU we'll use when configuring TensorFlow.\n",
        "resolver = tf.contrib.cluster_resolver.TPUClusterResolver('grpc://' + os.environ['COLAB_TPU_ADDR'])\n",
        "tf.contrib.distribute.initialize_tpu_system(resolver)\n",
        "strategy = tf.contrib.distribute.TPUStrategy(resolver)\n",
        "\n",
        "with strategy.scope():\n",
        "  model = create_model()\n",
        "  model.compile(\n",
        "      optimizer=tf.keras.optimizers.Adam(learning_rate=1e-3, ),\n",
        "      loss='sparse_categorical_crossentropy',\n",
        "      metrics=['sparse_categorical_accuracy'])\n",
        "\n",
        "model.fit(\n",
        "    x_train.astype(np.float32), y_train.astype(np.float32),\n",
        "    epochs=17,\n",
        "    steps_per_epoch=60,\n",
        "    validation_data=(x_test.astype(np.float32), y_test.astype(np.float32)),\n",
        "    validation_freq=17\n",
        ")\n",
        "\n",
        "model.save_weights('./fashion_mnist.h5', overwrite=True)"
      ],
      "execution_count": 5,
      "outputs": [
        {
          "output_type": "stream",
          "text": [
            "WARNING:tensorflow:\n",
            "The TensorFlow contrib module will not be included in TensorFlow 2.0.\n",
            "For more information, please see:\n",
            "  * https://github.com/tensorflow/community/blob/master/rfcs/20180907-contrib-sunset.md\n",
            "  * https://github.com/tensorflow/addons\n",
            "  * https://github.com/tensorflow/io (for I/O related ops)\n",
            "If you depend on functionality not listed there, please file an issue.\n",
            "\n",
            "INFO:tensorflow:Initializing the TPU system.\n",
            "INFO:tensorflow:Finished initializing TPU system.\n",
            "INFO:tensorflow:Querying Tensorflow master (grpc://10.100.113.34:8470) for TPU system metadata.\n",
            "INFO:tensorflow:Found TPU system:\n",
            "INFO:tensorflow:*** Num TPU Cores: 8\n",
            "INFO:tensorflow:*** Num TPU Workers: 1\n",
            "INFO:tensorflow:*** Num TPU Cores Per Worker: 8\n",
            "INFO:tensorflow:*** Available Device: _DeviceAttributes(/job:worker/replica:0/task:0/device:CPU:0, CPU, -1, 991535052555458390)\n",
            "INFO:tensorflow:*** Available Device: _DeviceAttributes(/job:worker/replica:0/task:0/device:TPU:0, TPU, 17179869184, 492406497615429313)\n",
            "INFO:tensorflow:*** Available Device: _DeviceAttributes(/job:worker/replica:0/task:0/device:TPU:1, TPU, 17179869184, 13800903359626000768)\n",
            "INFO:tensorflow:*** Available Device: _DeviceAttributes(/job:worker/replica:0/task:0/device:TPU:2, TPU, 17179869184, 6971756664637421983)\n",
            "INFO:tensorflow:*** Available Device: _DeviceAttributes(/job:worker/replica:0/task:0/device:TPU:3, TPU, 17179869184, 4317516657406695534)\n",
            "INFO:tensorflow:*** Available Device: _DeviceAttributes(/job:worker/replica:0/task:0/device:TPU:4, TPU, 17179869184, 11039286042287193777)\n",
            "INFO:tensorflow:*** Available Device: _DeviceAttributes(/job:worker/replica:0/task:0/device:TPU:5, TPU, 17179869184, 4501173186819771024)\n",
            "INFO:tensorflow:*** Available Device: _DeviceAttributes(/job:worker/replica:0/task:0/device:TPU:6, TPU, 17179869184, 6237119618699802484)\n",
            "INFO:tensorflow:*** Available Device: _DeviceAttributes(/job:worker/replica:0/task:0/device:TPU:7, TPU, 17179869184, 17221026652179965073)\n",
            "INFO:tensorflow:*** Available Device: _DeviceAttributes(/job:worker/replica:0/task:0/device:TPU_SYSTEM:0, TPU_SYSTEM, 8589934592, 3273343373405668240)\n",
            "INFO:tensorflow:*** Available Device: _DeviceAttributes(/job:worker/replica:0/task:0/device:XLA_CPU:0, XLA_CPU, 17179869184, 11190450065762899991)\n",
            "WARNING:tensorflow:From /usr/local/lib/python3.6/dist-packages/tensorflow/python/ops/init_ops.py:1251: calling VarianceScaling.__init__ (from tensorflow.python.ops.init_ops) with dtype is deprecated and will be removed in a future version.\n",
            "Instructions for updating:\n",
            "Call initializer instance with the dtype argument instead of passing it to the constructor\n",
            "Epoch 1/17\n",
            "WARNING:tensorflow:From /usr/local/lib/python3.6/dist-packages/tensorflow/python/keras/engine/training_distributed.py:411: Variable.load (from tensorflow.python.ops.variables) is deprecated and will be removed in a future version.\n",
            "Instructions for updating:\n",
            "Prefer Variable.assign which has equivalent behavior in 2.X.\n",
            "60/60 [==============================] - 4s 69ms/step - loss: 1.2045 - sparse_categorical_accuracy: 0.6718\n",
            "Epoch 2/17\n",
            "60/60 [==============================] - 1s 22ms/step - loss: 0.5493 - sparse_categorical_accuracy: 0.8125\n",
            "Epoch 3/17\n",
            "60/60 [==============================] - 1s 23ms/step - loss: 0.4377 - sparse_categorical_accuracy: 0.8498\n",
            "Epoch 4/17\n",
            "60/60 [==============================] - 1s 23ms/step - loss: 0.3904 - sparse_categorical_accuracy: 0.8621\n",
            "Epoch 5/17\n",
            "60/60 [==============================] - 1s 22ms/step - loss: 0.3538 - sparse_categorical_accuracy: 0.8748\n",
            "Epoch 6/17\n",
            "60/60 [==============================] - 1s 23ms/step - loss: 0.3225 - sparse_categorical_accuracy: 0.8847\n",
            "Epoch 7/17\n",
            "60/60 [==============================] - 1s 23ms/step - loss: 0.2967 - sparse_categorical_accuracy: 0.8934\n",
            "Epoch 8/17\n",
            "60/60 [==============================] - 1s 23ms/step - loss: 0.2743 - sparse_categorical_accuracy: 0.9006\n",
            "Epoch 9/17\n",
            "60/60 [==============================] - 1s 23ms/step - loss: 0.2537 - sparse_categorical_accuracy: 0.9070\n",
            "Epoch 10/17\n",
            "60/60 [==============================] - 1s 23ms/step - loss: 0.2393 - sparse_categorical_accuracy: 0.9124\n",
            "Epoch 11/17\n",
            "60/60 [==============================] - 1s 23ms/step - loss: 0.2251 - sparse_categorical_accuracy: 0.9165\n",
            "Epoch 12/17\n",
            "60/60 [==============================] - 1s 23ms/step - loss: 0.2148 - sparse_categorical_accuracy: 0.9207\n",
            "Epoch 13/17\n",
            "60/60 [==============================] - 1s 23ms/step - loss: 0.1979 - sparse_categorical_accuracy: 0.9271\n",
            "Epoch 14/17\n",
            "60/60 [==============================] - 1s 23ms/step - loss: 0.1878 - sparse_categorical_accuracy: 0.9299\n",
            "Epoch 15/17\n",
            "60/60 [==============================] - 1s 23ms/step - loss: 0.1786 - sparse_categorical_accuracy: 0.9322\n",
            "Epoch 16/17\n",
            "60/60 [==============================] - 1s 23ms/step - loss: 0.1689 - sparse_categorical_accuracy: 0.9377\n",
            "Epoch 17/17\n",
            "58/60 [============================>.] - ETA: 0s - loss: 0.1599 - sparse_categorical_accuracy: 0.9398INFO:tensorflow:Running validation at fit epoch: 16\n",
            "10/10 [==============================] - 3s 339ms/step\n",
            "10/10 [==============================] - 3s 339ms/step\n",
            "60/60 [==============================] - 7s 114ms/step - loss: 0.1600 - sparse_categorical_accuracy: 0.9396 - val_loss: 0.2367 - val_sparse_categorical_accuracy: 0.9235\n"
          ],
          "name": "stdout"
        }
      ]
    },
    {
      "cell_type": "markdown",
      "metadata": {
        "id": "8E_kiu8ve7S5",
        "colab_type": "text"
      },
      "source": [
        "This approach achieved an accuracy of about 94%. With more advanced approaches, the model can be improved.\n"
      ]
    },
    {
      "cell_type": "markdown",
      "metadata": {
        "id": "ofufKa-oYhkP",
        "colab_type": "text"
      },
      "source": [
        "**Now that we are done training, we will see how well the model can predict fashion categories!**"
      ]
    },
    {
      "cell_type": "code",
      "metadata": {
        "id": "ii2J8vysTL_0",
        "colab_type": "code",
        "colab": {
          "base_uri": "https://localhost:8080/",
          "height": 507
        },
        "outputId": "846965c0-e378-4d36-97e6-a8bf1a66b799"
      },
      "source": [
        "LABEL_NAMES = ['t_shirt', 'trouser', 'pullover', 'dress', 'coat', 'sandal', 'shirt', 'sneaker', 'bag', 'ankle_boots']\n",
        "\n",
        "\n",
        "cpu_model = create_model()\n",
        "cpu_model.load_weights('./fashion_mnist.h5')\n",
        "\n",
        "from matplotlib import pyplot\n",
        "%matplotlib inline\n",
        "\n",
        "def plot_predictions(images, predictions):\n",
        "  n = images.shape[0]\n",
        "  nc = int(np.ceil(n / 4))\n",
        "  f, axes = pyplot.subplots(nc, 4)\n",
        "  for i in range(nc * 4):\n",
        "    y = i // 4\n",
        "    x = i % 4\n",
        "    axes[x, y].axis('off')\n",
        "    \n",
        "    label = LABEL_NAMES[np.argmax(predictions[i])]\n",
        "    confidence = np.max(predictions[i])\n",
        "    if i > n:\n",
        "      continue\n",
        "    axes[x, y].imshow(images[i])\n",
        "    axes[x, y].text(0.5, 0.5, label + '\\n%.3f' % confidence, fontsize=14)\n",
        "\n",
        "  pyplot.gcf().set_size_inches(8, 8)  \n",
        "\n",
        "plot_predictions(np.squeeze(x_test[:16]), \n",
        "                 cpu_model.predict(x_test[:16]))"
      ],
      "execution_count": 6,
      "outputs": [
        {
          "output_type": "display_data",
          "data": {
            "image/png": "[encoded data removed]",
            "text/plain": [
              "<Figure size 576x576 with 16 Axes>"
            ]
          },
          "metadata": {
            "tags": []
          }
        }
      ]
    }
  ]
}