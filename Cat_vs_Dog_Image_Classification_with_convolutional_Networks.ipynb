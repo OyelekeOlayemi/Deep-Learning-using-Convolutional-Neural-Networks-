{
  "nbformat": 4,
  "nbformat_minor": 0,
  "metadata": {
    "accelerator": "GPU",
    "colab": {
      "name": "Cat vs. Dog Image Classification with convolutional Networks.ipynb",
      "provenance": [],
      "collapsed_sections": [],
      "include_colab_link": true
    },
    "kernelspec": {
      "display_name": "Python 2",
      "name": "python2"
    }
  },
  "cells": [
    {
      "cell_type": "markdown",
      "metadata": {
        "id": "view-in-github",
        "colab_type": "text"
      },
      "source": [
        "<a href=\"https://colab.research.google.com/github/OyelekeOlayemi/Deep-Learning-using-Convolutional-Neural-Networks-/blob/master/Cat_vs_Dog_Image_Classification_with_convolutional_Networks.ipynb\" target=\"_parent\"><img src=\"https://colab.research.google.com/assets/colab-badge.svg\" alt=\"Open In Colab\"/></a>"
      ]
    },
    {
      "cell_type": "markdown",
      "metadata": {
        "colab_type": "text",
        "id": "YHK6DyunSbs4"
      },
      "source": [
        "# Cat vs. Dog Image Classification\n",
        "\n",
        "In this exercise, we'll look at two techniques for repurposing feature data generated from image models that have already been trained on large sets of data, **feature extraction** and **fine tuning**, and use them to improve the accuracy of our cat vs. dog classification model."
      ]
    },
    {
      "cell_type": "markdown",
      "metadata": {
        "colab_type": "text",
        "id": "dI5rmt4UBwXs"
      },
      "source": [
        "## Feature Extraction Using a Pretrained Model\n",
        "\n",
        "One thing that is commonly done in computer vision is to take a model trained on a very large dataset, run it on your own, smaller dataset, and extract the intermediate representations (features) that the model generates. These representations are frequently informative for your own computer vision task, even though the task may be quite different from the problem that the original model was trained on. This versatility and repurposability of convnets is one of the most interesting aspects of deep learning.\n",
        "\n",
        "In our case, we will use the [Inception V3 model](https://arxiv.org/abs/1512.00567) developed at Google, and pre-trained on [ImageNet](http://image-net.org/), a large dataset of web images (1.4M images and 1000 classes). This is a powerful model; let's see what the features that it has learned can do for our cat vs. dog problem.\n",
        "\n",
        "First, we need to pick which intermediate layer of Inception V3 we will use for feature extraction. A common practice is to use the output of the very last layer before the `Flatten` operation, the so-called \"bottleneck layer.\" The reasoning here is that the following fully connected layers will be too specialized for the task the network was trained on, and thus the features learned by these layers won't be very useful for a new task. The bottleneck features, however, retain much generality.\n",
        "\n",
        "Let's instantiate an Inception V3 model preloaded with weights trained on ImageNet:\n"
      ]
    },
    {
      "cell_type": "code",
      "metadata": {
        "colab_type": "code",
        "id": "1xJZ5glPPCRz",
        "colab": {}
      },
      "source": [
        "import os\n",
        "\n",
        "from tensorflow.keras import layers\n",
        "from tensorflow.keras import Model"
      ],
      "execution_count": 0,
      "outputs": []
    },
    {
      "cell_type": "markdown",
      "metadata": {
        "colab_type": "text",
        "id": "VaXLMtYiF0t9"
      },
      "source": [
        "Now let's download the weights:"
      ]
    },
    {
      "cell_type": "code",
      "metadata": {
        "colab_type": "code",
        "id": "KMrbllgAFipZ",
        "outputId": "7c5aeaae-eaf1-4ee0-c02a-e001b645e25b",
        "colab": {
          "base_uri": "https://localhost:8080/",
          "height": 204
        }
      },
      "source": [
        "!wget --no-check-certificate \\\n",
        "    https://storage.googleapis.com/mledu-datasets/inception_v3_weights_tf_dim_ordering_tf_kernels_notop.h5 \\\n",
        "    -O /tmp/inception_v3_weights_tf_dim_ordering_tf_kernels_notop.h5"
      ],
      "execution_count": 0,
      "outputs": [
        {
          "output_type": "stream",
          "text": [
            "--2019-09-19 16:48:59--  https://storage.googleapis.com/mledu-datasets/inception_v3_weights_tf_dim_ordering_tf_kernels_notop.h5\n",
            "Resolving storage.googleapis.com (storage.googleapis.com)... 172.217.25.80, 2404:6800:4004:818::2010\n",
            "Connecting to storage.googleapis.com (storage.googleapis.com)|172.217.25.80|:443... connected.\n",
            "HTTP request sent, awaiting response... 200 OK\n",
            "Length: 87910968 (84M) [application/x-hdf]\n",
            "Saving to: ‘/tmp/inception_v3_weights_tf_dim_ordering_tf_kernels_notop.h5’\n",
            "\n",
            "/tmp/inception_v3_w 100%[===================>]  83.84M  74.3MB/s    in 1.1s    \n",
            "\n",
            "2019-09-19 16:49:01 (74.3 MB/s) - ‘/tmp/inception_v3_weights_tf_dim_ordering_tf_kernels_notop.h5’ saved [87910968/87910968]\n",
            "\n"
          ],
          "name": "stdout"
        }
      ]
    },
    {
      "cell_type": "code",
      "metadata": {
        "colab_type": "code",
        "id": "UnRiGBfOF8rq",
        "outputId": "c7f75e68-b6b4-410c-a8c8-9a0888874249",
        "colab": {
          "base_uri": "https://localhost:8080/",
          "height": 105
        }
      },
      "source": [
        "from tensorflow.keras.applications.inception_v3 import InceptionV3\n",
        "\n",
        "local_weights_file = '/tmp/inception_v3_weights_tf_dim_ordering_tf_kernels_notop.h5'\n",
        "pre_trained_model = InceptionV3(\n",
        "    input_shape=(150, 150, 3), include_top=False, weights=None)\n",
        "pre_trained_model.load_weights(local_weights_file)"
      ],
      "execution_count": 0,
      "outputs": [
        {
          "output_type": "stream",
          "text": [
            "WARNING: Logging before flag parsing goes to stderr.\n",
            "W0919 16:49:51.268830 140479460894592 deprecation.py:506] From /usr/local/lib/python2.7/dist-packages/tensorflow/python/ops/init_ops.py:1251: calling __init__ (from tensorflow.python.ops.init_ops) with dtype is deprecated and will be removed in a future version.\n",
            "Instructions for updating:\n",
            "Call initializer instance with the dtype argument instead of passing it to the constructor\n"
          ],
          "name": "stderr"
        }
      ]
    },
    {
      "cell_type": "markdown",
      "metadata": {
        "colab_type": "text",
        "id": "IcYZPBS3bTAj"
      },
      "source": [
        "By specifying the `include_top=False` argument, we load a network that doesn't include the classification layers at the top—ideal for feature extraction."
      ]
    },
    {
      "cell_type": "markdown",
      "metadata": {
        "colab_type": "text",
        "id": "CFxrqTuJee5m"
      },
      "source": [
        "Let's make the model non-trainable, since we will only use it for feature extraction; we won't update the weights of the pretrained model during training."
      ]
    },
    {
      "cell_type": "code",
      "metadata": {
        "colab_type": "code",
        "id": "a38rB3lyedcB",
        "colab": {}
      },
      "source": [
        "for layer in pre_trained_model.layers:\n",
        "  layer.trainable = False"
      ],
      "execution_count": 0,
      "outputs": []
    },
    {
      "cell_type": "markdown",
      "metadata": {
        "colab_type": "text",
        "id": "XGBGDiOAepnO"
      },
      "source": [
        "The layer we will use for feature extraction in Inception v3 is called `mixed7`. It is not the bottleneck of the network, but we are using it to keep a sufficiently large feature map (7x7 in this case). (Using the bottleneck layer would have resulting in a 3x3 feature map, which is a bit small.) Let's get the output from `mixed7`:"
      ]
    },
    {
      "cell_type": "code",
      "metadata": {
        "colab_type": "code",
        "id": "Cj4rXshqbQlS",
        "outputId": "7acce612-5a3c-4959-8767-afe92694ab8f",
        "colab": {
          "base_uri": "https://localhost:8080/",
          "height": 34
        }
      },
      "source": [
        "last_layer = pre_trained_model.get_layer('mixed7')\n",
        "print 'last layer output shape:', last_layer.output_shape\n",
        "last_output = last_layer.output"
      ],
      "execution_count": 0,
      "outputs": [
        {
          "output_type": "stream",
          "text": [
            "last layer output shape: (None, 7, 7, 768)\n"
          ],
          "name": "stdout"
        }
      ]
    },
    {
      "cell_type": "markdown",
      "metadata": {
        "colab_type": "text",
        "id": "XxHk6XQLeUWh"
      },
      "source": [
        "Now let's stick a fully connected classifier on top of `last_output`:"
      ]
    },
    {
      "cell_type": "code",
      "metadata": {
        "colab_type": "code",
        "id": "BMXb913pbvFg",
        "outputId": "af3b0c15-0962-4483-a651-be098d4c44fd",
        "colab": {
          "base_uri": "https://localhost:8080/",
          "height": 88
        }
      },
      "source": [
        "from tensorflow.keras.optimizers import RMSprop\n",
        "\n",
        "# Flatten the output layer to 1 dimension\n",
        "x = layers.Flatten()(last_output)\n",
        "# Add a fully connected layer with 1,024 hidden units and ReLU activation\n",
        "x = layers.Dense(1024, activation='relu')(x)\n",
        "# Add a dropout rate of 0.2\n",
        "x = layers.Dropout(0.2)(x)\n",
        "# Add a final sigmoid layer for classification\n",
        "x = layers.Dense(1, activation='sigmoid')(x)\n",
        "\n",
        "# Configure and compile the model\n",
        "model = Model(pre_trained_model.input, x)\n",
        "model.compile(loss='binary_crossentropy',\n",
        "              optimizer=RMSprop(lr=0.0001),\n",
        "              metrics=['acc'])"
      ],
      "execution_count": 0,
      "outputs": [
        {
          "output_type": "stream",
          "text": [
            "W0919 16:52:06.928174 140479460894592 deprecation.py:323] From /usr/local/lib/python2.7/dist-packages/tensorflow/python/ops/nn_impl.py:180: where (from tensorflow.python.ops.array_ops) is deprecated and will be removed in a future version.\n",
            "Instructions for updating:\n",
            "Use tf.where in 2.0, which has the same broadcast rule as np.where\n"
          ],
          "name": "stderr"
        }
      ]
    },
    {
      "cell_type": "markdown",
      "metadata": {
        "colab_type": "text",
        "id": "_6ECjowwV5Ug"
      },
      "source": [
        "For examples and data preprocessing, let's use the same files and `train_generator` as we did in Exercise 2."
      ]
    },
    {
      "cell_type": "markdown",
      "metadata": {
        "colab_type": "text",
        "id": "Cl-IqOTjZVw_"
      },
      "source": [
        "**NOTE:** The 2,000 images used in this exercise are excerpted from the [\"Dogs vs. Cats\" dataset](https://www.kaggle.com/c/dogs-vs-cats/data) available on Kaggle, which contains 25,000 images. Here, we use a subset of the full dataset to decrease training time for educational purposes."
      ]
    },
    {
      "cell_type": "code",
      "metadata": {
        "colab_type": "code",
        "id": "O4s8HckqGlnb",
        "outputId": "e0eb9ae2-326b-42f2-e2e1-dffc1699d977",
        "colab": {
          "base_uri": "https://localhost:8080/",
          "height": 204
        }
      },
      "source": [
        "!wget --no-check-certificate \\\n",
        "   https://storage.googleapis.com/mledu-datasets/cats_and_dogs_filtered.zip -O \\\n",
        "   /tmp/cats_and_dogs_filtered.zip"
      ],
      "execution_count": 0,
      "outputs": [
        {
          "output_type": "stream",
          "text": [
            "--2019-09-19 16:52:32--  https://storage.googleapis.com/mledu-datasets/cats_and_dogs_filtered.zip\n",
            "Resolving storage.googleapis.com (storage.googleapis.com)... 172.217.25.80, 2404:6800:4004:80b::2010\n",
            "Connecting to storage.googleapis.com (storage.googleapis.com)|172.217.25.80|:443... connected.\n",
            "HTTP request sent, awaiting response... 200 OK\n",
            "Length: 68606236 (65M) [application/zip]\n",
            "Saving to: ‘/tmp/cats_and_dogs_filtered.zip’\n",
            "\n",
            "/tmp/cats_and_dogs_ 100%[===================>]  65.43M  71.9MB/s    in 0.9s    \n",
            "\n",
            "2019-09-19 16:52:34 (71.9 MB/s) - ‘/tmp/cats_and_dogs_filtered.zip’ saved [68606236/68606236]\n",
            "\n"
          ],
          "name": "stdout"
        }
      ]
    },
    {
      "cell_type": "code",
      "metadata": {
        "colab_type": "code",
        "id": "Fl9XXARuV_eg",
        "outputId": "3e470e7a-9b42-4f9a-c202-0f8a2ceafaf5",
        "colab": {
          "base_uri": "https://localhost:8080/",
          "height": 51
        }
      },
      "source": [
        "import os\n",
        "import zipfile\n",
        "\n",
        "from tensorflow.keras.preprocessing.image import ImageDataGenerator\n",
        "\n",
        "local_zip = '/tmp/cats_and_dogs_filtered.zip'\n",
        "zip_ref = zipfile.ZipFile(local_zip, 'r')\n",
        "zip_ref.extractall('/tmp')\n",
        "zip_ref.close()\n",
        "\n",
        "# Define our example directories and files\n",
        "base_dir = '/tmp/cats_and_dogs_filtered'\n",
        "train_dir = os.path.join(base_dir, 'train')\n",
        "validation_dir = os.path.join(base_dir, 'validation')\n",
        "\n",
        "# Directory with our training cat pictures\n",
        "train_cats_dir = os.path.join(train_dir, 'cats')\n",
        "\n",
        "# Directory with our training dog pictures\n",
        "train_dogs_dir = os.path.join(train_dir, 'dogs')\n",
        "\n",
        "# Directory with our validation cat pictures\n",
        "validation_cats_dir = os.path.join(validation_dir, 'cats')\n",
        "\n",
        "# Directory with our validation dog pictures\n",
        "validation_dogs_dir = os.path.join(validation_dir, 'dogs')\n",
        "\n",
        "train_cat_fnames = os.listdir(train_cats_dir)\n",
        "train_dog_fnames = os.listdir(train_dogs_dir)\n",
        "\n",
        "# Add our data-augmentation parameters to ImageDataGenerator\n",
        "train_datagen = ImageDataGenerator(\n",
        "    rescale=1./255,\n",
        "    rotation_range=40,\n",
        "    width_shift_range=0.2,\n",
        "    height_shift_range=0.2,\n",
        "    shear_range=0.2,\n",
        "    zoom_range=0.2,\n",
        "    horizontal_flip=True)\n",
        "\n",
        "# Note that the validation data should not be augmented!\n",
        "test_datagen = ImageDataGenerator(rescale=1./255)\n",
        "\n",
        "train_generator = train_datagen.flow_from_directory(\n",
        "        train_dir, # This is the source directory for training images\n",
        "        target_size=(150, 150),  # All images will be resized to 150x150\n",
        "        batch_size=20,\n",
        "        # Since we use binary_crossentropy loss, we need binary labels\n",
        "        class_mode='binary')\n",
        "\n",
        "# Flow validation images in batches of 20 using test_datagen generator\n",
        "validation_generator = test_datagen.flow_from_directory(\n",
        "        validation_dir,\n",
        "        target_size=(150, 150),\n",
        "        batch_size=20,\n",
        "        class_mode='binary')"
      ],
      "execution_count": 0,
      "outputs": [
        {
          "output_type": "stream",
          "text": [
            "Found 2000 images belonging to 2 classes.\n",
            "Found 1000 images belonging to 2 classes.\n"
          ],
          "name": "stdout"
        }
      ]
    },
    {
      "cell_type": "markdown",
      "metadata": {
        "colab_type": "text",
        "id": "qEC1AL7iVRLz"
      },
      "source": [
        "Finally, let's train the model using the features we extracted. We'll train on all 2000 images available, for 2 epochs, and validate on all 1,000 test images."
      ]
    },
    {
      "cell_type": "code",
      "metadata": {
        "colab_type": "code",
        "id": "Blhq2MAUeyGA",
        "outputId": "45074d5d-87fe-436a-d94c-99b97072eeb0",
        "colab": {
          "base_uri": "https://localhost:8080/",
          "height": 85
        }
      },
      "source": [
        "history = model.fit_generator(\n",
        "      train_generator,\n",
        "      steps_per_epoch=100,\n",
        "      epochs=2,\n",
        "      validation_data=validation_generator,\n",
        "      validation_steps=50,\n",
        "      verbose=2)"
      ],
      "execution_count": 0,
      "outputs": [
        {
          "output_type": "stream",
          "text": [
            "Epoch 1/2\n",
            "100/100 - 24s - loss: 0.4900 - acc: 0.7615 - val_loss: 0.5557 - val_acc: 0.8510\n",
            "Epoch 2/2\n",
            "100/100 - 16s - loss: 0.3761 - acc: 0.8310 - val_loss: 0.1945 - val_acc: 0.9440\n"
          ],
          "name": "stdout"
        }
      ]
    },
    {
      "cell_type": "markdown",
      "metadata": {
        "colab_type": "text",
        "id": "lRjyAkE62aOG"
      },
      "source": [
        "You can see that we reach a validation accuracy of 88–90% very quickly. This is much better than the small model we trained from scratch."
      ]
    },
    {
      "cell_type": "markdown",
      "metadata": {
        "colab_type": "text",
        "id": "tt15y6IS2pBo"
      },
      "source": [
        "## Further Improving Accuracy with Fine-Tuning\n",
        "\n",
        "In our feature-extraction experiment, we only tried adding two classification layers on top of an Inception V3 layer. The weights of the pretrained network were not updated during training. One way to increase performance even further is to \"fine-tune\" the weights of the top layers of the pretrained model alongside the training of the top-level classifier. A couple of important notes on fine-tuning:\n",
        "\n",
        "- **Fine-tuning should only be attempted *after* you have trained the top-level classifier with the pretrained model set to non-trainable**. If you add a randomly initialized classifier on top of a pretrained model and attempt to train all layers jointly, the magnitude of the gradient updates will be too large (due to the random weights from the classifier), and your pretrained model will just forget everything it has learned.\n",
        "- Additionally, we **fine-tune only the *top layers* of the pre-trained model** rather than all layers of the pretrained model because, in a convnet, the higher up a layer is, the more specialized it is. The first few layers in a convnet learn very simple and generic features, which generalize to almost all types of images. But as you go higher up, the features are increasingly specific to the dataset that the model is trained on. The goal of fine-tuning is to adapt these specialized features to work with the new dataset.\n",
        "\n",
        "All we need to do to implement fine-tuning is to set the top layers of Inception V3 to be trainable, recompile the model (necessary for these changes to take effect), and resume training. Let's unfreeze all layers belonging to the `mixed7` module—i.e., all layers found after `mixed6`—and recompile the model:"
      ]
    },
    {
      "cell_type": "code",
      "metadata": {
        "colab_type": "code",
        "id": "_l_J4S0Z2rgg",
        "colab": {}
      },
      "source": [
        "from tensorflow.keras.optimizers import SGD\n",
        "\n",
        "unfreeze = False\n",
        "\n",
        "# Unfreeze all models after \"mixed6\"\n",
        "for layer in pre_trained_model.layers:\n",
        "  if unfreeze:\n",
        "    layer.trainable = True\n",
        "  if layer.name == 'mixed6':\n",
        "    unfreeze = True\n",
        "\n",
        "# As an optimizer, here we will use SGD \n",
        "# with a very low learning rate (0.00001)\n",
        "model.compile(loss='binary_crossentropy',\n",
        "              optimizer=SGD(\n",
        "                  lr=0.00001, \n",
        "                  momentum=0.9),\n",
        "              metrics=['acc'])"
      ],
      "execution_count": 0,
      "outputs": []
    },
    {
      "cell_type": "markdown",
      "metadata": {
        "colab_type": "text",
        "id": "zE37ARlqY9da"
      },
      "source": [
        "Now let's retrain the model. We'll train on all 2000 images available, for 50 epochs, and validate on all 1,000 test images. (This may take 15-20 minutes to run.)"
      ]
    },
    {
      "cell_type": "code",
      "metadata": {
        "colab_type": "code",
        "id": "o_GgDGG4Y_hJ",
        "outputId": "4c4a79c6-4eea-4e7f-9c29-9a1f8637176f",
        "colab": {
          "base_uri": "https://localhost:8080/",
          "height": 1000
        }
      },
      "source": [
        "history = model.fit_generator(\n",
        "      train_generator,\n",
        "      steps_per_epoch=100,\n",
        "      epochs=50,\n",
        "      validation_data=validation_generator,\n",
        "      validation_steps=50,\n",
        "      verbose=2)"
      ],
      "execution_count": 0,
      "outputs": [
        {
          "output_type": "stream",
          "text": [
            "Epoch 1/50\n",
            "100/100 - 21s - loss: 0.3734 - acc: 0.8290 - val_loss: 0.2186 - val_acc: 0.9410\n",
            "Epoch 2/50\n",
            "100/100 - 17s - loss: 0.3173 - acc: 0.8610 - val_loss: 0.2330 - val_acc: 0.9420\n",
            "Epoch 3/50\n",
            "100/100 - 17s - loss: 0.3007 - acc: 0.8680 - val_loss: 0.2421 - val_acc: 0.9400\n",
            "Epoch 4/50\n",
            "100/100 - 17s - loss: 0.2803 - acc: 0.8815 - val_loss: 0.2479 - val_acc: 0.9400\n",
            "Epoch 5/50\n",
            "100/100 - 17s - loss: 0.2932 - acc: 0.8680 - val_loss: 0.2512 - val_acc: 0.9400\n",
            "Epoch 6/50\n",
            "100/100 - 17s - loss: 0.2924 - acc: 0.8735 - val_loss: 0.2511 - val_acc: 0.9400\n",
            "Epoch 7/50\n",
            "100/100 - 17s - loss: 0.2713 - acc: 0.8815 - val_loss: 0.2520 - val_acc: 0.9400\n",
            "Epoch 8/50\n",
            "100/100 - 17s - loss: 0.2881 - acc: 0.8760 - val_loss: 0.2496 - val_acc: 0.9400\n",
            "Epoch 9/50\n",
            "100/100 - 17s - loss: 0.2857 - acc: 0.8635 - val_loss: 0.2506 - val_acc: 0.9400\n",
            "Epoch 10/50\n",
            "100/100 - 17s - loss: 0.2899 - acc: 0.8660 - val_loss: 0.2502 - val_acc: 0.9400\n",
            "Epoch 11/50\n",
            "100/100 - 17s - loss: 0.2844 - acc: 0.8740 - val_loss: 0.2500 - val_acc: 0.9400\n",
            "Epoch 12/50\n",
            "100/100 - 17s - loss: 0.2824 - acc: 0.8790 - val_loss: 0.2476 - val_acc: 0.9400\n",
            "Epoch 13/50\n",
            "100/100 - 17s - loss: 0.2759 - acc: 0.8730 - val_loss: 0.2477 - val_acc: 0.9400\n",
            "Epoch 14/50\n",
            "100/100 - 17s - loss: 0.2839 - acc: 0.8750 - val_loss: 0.2461 - val_acc: 0.9400\n",
            "Epoch 15/50\n",
            "100/100 - 17s - loss: 0.2947 - acc: 0.8635 - val_loss: 0.2464 - val_acc: 0.9400\n",
            "Epoch 16/50\n",
            "100/100 - 16s - loss: 0.2744 - acc: 0.8865 - val_loss: 0.2460 - val_acc: 0.9400\n",
            "Epoch 17/50\n",
            "100/100 - 17s - loss: 0.2695 - acc: 0.8815 - val_loss: 0.2420 - val_acc: 0.9420\n",
            "Epoch 18/50\n",
            "100/100 - 17s - loss: 0.2843 - acc: 0.8725 - val_loss: 0.2440 - val_acc: 0.9410\n",
            "Epoch 19/50\n",
            "100/100 - 16s - loss: 0.2786 - acc: 0.8810 - val_loss: 0.2444 - val_acc: 0.9410\n",
            "Epoch 20/50\n",
            "100/100 - 16s - loss: 0.2584 - acc: 0.8965 - val_loss: 0.2437 - val_acc: 0.9410\n",
            "Epoch 21/50\n",
            "100/100 - 17s - loss: 0.2678 - acc: 0.8925 - val_loss: 0.2435 - val_acc: 0.9420\n",
            "Epoch 22/50\n",
            "100/100 - 17s - loss: 0.2695 - acc: 0.8815 - val_loss: 0.2404 - val_acc: 0.9430\n",
            "Epoch 23/50\n",
            "100/100 - 17s - loss: 0.2894 - acc: 0.8730 - val_loss: 0.2425 - val_acc: 0.9420\n",
            "Epoch 24/50\n",
            "100/100 - 17s - loss: 0.2883 - acc: 0.8715 - val_loss: 0.2432 - val_acc: 0.9420\n",
            "Epoch 25/50\n",
            "100/100 - 17s - loss: 0.2831 - acc: 0.8780 - val_loss: 0.2421 - val_acc: 0.9430\n",
            "Epoch 26/50\n",
            "100/100 - 17s - loss: 0.2664 - acc: 0.8820 - val_loss: 0.2414 - val_acc: 0.9430\n",
            "Epoch 27/50\n",
            "100/100 - 17s - loss: 0.2967 - acc: 0.8670 - val_loss: 0.2392 - val_acc: 0.9450\n",
            "Epoch 28/50\n",
            "100/100 - 17s - loss: 0.2684 - acc: 0.8795 - val_loss: 0.2390 - val_acc: 0.9450\n",
            "Epoch 29/50\n",
            "100/100 - 17s - loss: 0.2712 - acc: 0.8825 - val_loss: 0.2410 - val_acc: 0.9440\n",
            "Epoch 30/50\n",
            "100/100 - 16s - loss: 0.2697 - acc: 0.8810 - val_loss: 0.2401 - val_acc: 0.9430\n",
            "Epoch 31/50\n",
            "100/100 - 16s - loss: 0.2688 - acc: 0.8800 - val_loss: 0.2413 - val_acc: 0.9430\n",
            "Epoch 32/50\n",
            "100/100 - 17s - loss: 0.2715 - acc: 0.8815 - val_loss: 0.2388 - val_acc: 0.9450\n",
            "Epoch 33/50\n",
            "100/100 - 17s - loss: 0.2676 - acc: 0.8880 - val_loss: 0.2384 - val_acc: 0.9460\n",
            "Epoch 34/50\n",
            "100/100 - 16s - loss: 0.2707 - acc: 0.8845 - val_loss: 0.2374 - val_acc: 0.9460\n",
            "Epoch 35/50\n",
            "100/100 - 16s - loss: 0.2756 - acc: 0.8820 - val_loss: 0.2390 - val_acc: 0.9460\n",
            "Epoch 36/50\n",
            "100/100 - 17s - loss: 0.2880 - acc: 0.8710 - val_loss: 0.2356 - val_acc: 0.9460\n",
            "Epoch 37/50\n",
            "100/100 - 16s - loss: 0.2603 - acc: 0.8805 - val_loss: 0.2339 - val_acc: 0.9460\n",
            "Epoch 38/50\n",
            "100/100 - 16s - loss: 0.2767 - acc: 0.8770 - val_loss: 0.2342 - val_acc: 0.9460\n",
            "Epoch 39/50\n",
            "100/100 - 16s - loss: 0.2658 - acc: 0.8900 - val_loss: 0.2358 - val_acc: 0.9470\n",
            "Epoch 40/50\n",
            "100/100 - 16s - loss: 0.2636 - acc: 0.8840 - val_loss: 0.2335 - val_acc: 0.9460\n",
            "Epoch 41/50\n",
            "100/100 - 17s - loss: 0.2731 - acc: 0.8785 - val_loss: 0.2339 - val_acc: 0.9470\n",
            "Epoch 42/50\n",
            "100/100 - 17s - loss: 0.2703 - acc: 0.8855 - val_loss: 0.2322 - val_acc: 0.9480\n",
            "Epoch 43/50\n",
            "100/100 - 17s - loss: 0.2671 - acc: 0.8900 - val_loss: 0.2328 - val_acc: 0.9470\n",
            "Epoch 44/50\n",
            "100/100 - 17s - loss: 0.2550 - acc: 0.8925 - val_loss: 0.2329 - val_acc: 0.9470\n",
            "Epoch 45/50\n",
            "100/100 - 17s - loss: 0.2837 - acc: 0.8780 - val_loss: 0.2340 - val_acc: 0.9480\n",
            "Epoch 46/50\n",
            "100/100 - 17s - loss: 0.2717 - acc: 0.8825 - val_loss: 0.2311 - val_acc: 0.9490\n",
            "Epoch 47/50\n",
            "100/100 - 17s - loss: 0.2663 - acc: 0.8865 - val_loss: 0.2328 - val_acc: 0.9490\n",
            "Epoch 48/50\n",
            "100/100 - 17s - loss: 0.2668 - acc: 0.8820 - val_loss: 0.2311 - val_acc: 0.9480\n",
            "Epoch 49/50\n",
            "100/100 - 17s - loss: 0.2641 - acc: 0.8815 - val_loss: 0.2298 - val_acc: 0.9470\n",
            "Epoch 50/50\n",
            "100/100 - 16s - loss: 0.2611 - acc: 0.8860 - val_loss: 0.2314 - val_acc: 0.9490\n"
          ],
          "name": "stdout"
        }
      ]
    },
    {
      "cell_type": "markdown",
      "metadata": {
        "colab_type": "text",
        "id": "3EPGn58ofwq5"
      },
      "source": [
        "We are seeing a nice improvement, with the validation loss going from ~1.7 down to ~1.2, and accuracy going from 88% to 92%. That's a 4.5% relative improvement in accuracy.\n",
        "\n",
        "Let's plot the training and validation loss and accuracy to show it conclusively:"
      ]
    },
    {
      "cell_type": "code",
      "metadata": {
        "colab_type": "code",
        "id": "1FtxcKjJfxL9",
        "outputId": "e543006b-bca6-4302-a627-a28331c71f6e",
        "colab": {
          "base_uri": "https://localhost:8080/",
          "height": 562
        }
      },
      "source": [
        "%matplotlib inline\n",
        "\n",
        "import matplotlib.pyplot as plt\n",
        "import matplotlib.image as mpimg\n",
        "\n",
        "# Retrieve a list of accuracy results on training and test data\n",
        "# sets for each training epoch\n",
        "acc = history.history['acc']\n",
        "val_acc = history.history['val_acc']\n",
        "\n",
        "# Retrieve a list of list results on training and test data\n",
        "# sets for each training epoch\n",
        "loss = history.history['loss']\n",
        "val_loss = history.history['val_loss']\n",
        "\n",
        "# Get number of epochs\n",
        "epochs = range(len(acc))\n",
        "\n",
        "# Plot training and validation accuracy per epoch\n",
        "plt.plot(epochs, acc)\n",
        "plt.plot(epochs, val_acc)\n",
        "plt.title('Training and validation accuracy')\n",
        "\n",
        "plt.figure()\n",
        "\n",
        "# Plot training and validation loss per epoch\n",
        "plt.plot(epochs, loss)\n",
        "plt.plot(epochs, val_loss)\n",
        "plt.title('Training and validation loss')"
      ],
      "execution_count": 0,
      "outputs": [
        {
          "output_type": "execute_result",
          "data": {
            "text/plain": [
              "Text(0.5,1,'Training and validation loss')"
            ]
          },
          "metadata": {
            "tags": []
          },
          "execution_count": 12
        },
        {
          "output_type": "display_data",
          "data": {
            "image/png": "[encoded data removed]",
            "text/plain": [
              "<Figure size 432x288 with 1 Axes>"
            ]
          },
          "metadata": {
            "tags": []
          }
        },
        {
          "output_type": "display_data",
          "data": {
            "image/png": "[encoded data removed]",
            "text/plain": [
              "<Figure size 432x288 with 1 Axes>"
            ]
          },
          "metadata": {
            "tags": []
          }
        }
      ]
    },
    {
      "cell_type": "markdown",
      "metadata": {
        "colab_type": "text",
        "id": "X-fUIeizakjE"
      },
      "source": [
        "Congratulations! Using feature extraction and fine-tuning, you've built an image classification model that can identify cats vs. dogs in images with over 90% accuracy."
      ]
    },
    {
      "cell_type": "markdown",
      "metadata": {
        "colab_type": "text",
        "id": "x_ANwJCnx7w-"
      },
      "source": [
        "## Clean Up\n",
        "\n",
        "Run the following cell to terminate the kernel and free memory resources:"
      ]
    },
    {
      "cell_type": "code",
      "metadata": {
        "colab_type": "code",
        "id": "-hUmyohAyBzh",
        "colab": {}
      },
      "source": [
        "import os, signal\n",
        "os.kill(os.getpid(), signal.SIGKILL)"
      ],
      "execution_count": 0,
      "outputs": []
    }
  ]
}